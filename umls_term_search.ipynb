{
 "cells": [
  {
   "cell_type": "markdown",
   "metadata": {},
   "source": [
    "Program to query UMLS.\n",
    "\n",
    "Additional Resources:\n",
    "https://www.ncbi.nlm.nih.gov/books/NBK9684/\n",
    "https://documentation.uts.nlm.nih.gov/rest/home.html\n",
    "https://github.com/HHS/uts-rest-api/tree/master/samples/python"
   ]
  },
  {
   "cell_type": "code",
   "execution_count": 9,
   "metadata": {
    "collapsed": true
   },
   "outputs": [],
   "source": [
    "import requests, json\n",
    "from pyquery import PyQuery as pq\n",
    "from lxml import etree\n",
    "from Authentication import *"
   ]
  },
  {
   "cell_type": "code",
   "execution_count": 16,
   "metadata": {
    "collapsed": true
   },
   "outputs": [],
   "source": [
    "#################################################################################\n",
    "# see https://documentation.uts.nlm.nih.gov/rest/search/index.html for full docs\n",
    "# on the /search endpoint\n",
    "#################################################################################\n",
    "\n",
    "apikey = \"\" #insert your apikey here\n",
    "version = \"current\"\n",
    "uri = \"https://uts-ws.nlm.nih.gov\""
   ]
  },
  {
   "cell_type": "code",
   "execution_count": 40,
   "metadata": {
    "collapsed": false
   },
   "outputs": [
    {
     "name": "stdout",
     "output_type": "stream",
     "text": [
      "ui: C0206172\n",
      "uri: https://uts-ws.nlm.nih.gov/rest/content/2016AA/CUI/C0206172\n",
      "name: Diabetic Foot\n",
      "Source Vocabulary: MTH\n",
      "\n",
      "\n",
      "*********\n",
      "ui: NONE\n",
      "name: NO RESULTS\n",
      "\n",
      "\n"
     ]
    }
   ],
   "source": [
    "## search by term\n",
    "## based on search-terms.py from https://github.com/HHS/uts-rest-api/tree/master/samples/python\n",
    "## requires Authentication.py from that site\n",
    "\n",
    "string = \"diabetic foot\"\n",
    "#string = \"this is not a medical term\"\n",
    "content_endpoint = \"/rest/search/\"+version\n",
    "##get at ticket granting ticket for the session\n",
    "AuthClient = Authentication(apikey)\n",
    "tgt = AuthClient.gettgt()\n",
    "pageNumber=0\n",
    "\n",
    "while True:\n",
    "    \n",
    "    ##generate a new service ticket for each page if needed\n",
    "    ticket = AuthClient.getst(tgt)\n",
    "    pageNumber += 1\n",
    "    query = {'string':string,'ticket':ticket, 'pageNumber':pageNumber}\n",
    "    #query['includeObsolete'] = 'true'\n",
    "    #query['includeSuppressible'] = 'true'\n",
    "    #query['returnIdType'] = \"sourceConcept\"\n",
    "    query['searchType'] = \"exact\"\n",
    "    query['sabs'] = \"SNOMEDCT_US\"\n",
    "    r = requests.get(uri+content_endpoint,params=query)\n",
    "    r.encoding = 'utf-8'\n",
    "    items  = json.loads(r.text)\n",
    "    jsonData = items[\"result\"]\n",
    "    #print (json.dumps(items, indent = 4))\n",
    "    \n",
    "    for result in jsonData[\"results\"]:\n",
    "        try:\n",
    "             print \"ui: \" + result[\"ui\"]\n",
    "        except:\n",
    "            NameError\n",
    "        try:\n",
    "            print \"uri: \" + result[\"uri\"]\n",
    "        except:\n",
    "            NameError\n",
    "        try:\n",
    "            print \"name: \" + result[\"name\"]\n",
    "        except:\n",
    "            NameError\n",
    "        try:\n",
    "            print \"Source Vocabulary: \" + result[\"rootSource\"]\n",
    "        except:\n",
    "            NameError\n",
    "        try:\n",
    "            print \"value: \" + result['value']\n",
    "        except:\n",
    "            NameError\n",
    "      \n",
    "        print(\"\\n\")\n",
    "        \n",
    "    \n",
    "    ##Either our search returned nothing, or we're at the end\n",
    "    if jsonData[\"results\"][0][\"ui\"] == \"NONE\":\n",
    "        break\n",
    "    print(\"*********\")"
   ]
  },
  {
   "cell_type": "code",
   "execution_count": 23,
   "metadata": {
    "collapsed": false
   },
   "outputs": [
    {
     "name": "stdout",
     "output_type": "stream",
     "text": [
      "classType: Concept\n",
      "ui: C0206172\n",
      "Name: Diabetic Foot\n",
      "AtomCount: 75\n",
      "Atoms: https://uts-ws.nlm.nih.gov/rest/content/2016AA/CUI/C0206172/atoms\n",
      "Default Preferred Atom: https://uts-ws.nlm.nih.gov/rest/content/2016AA/CUI/C0206172/atoms/preferred\n",
      "definitions: https://uts-ws.nlm.nih.gov/rest/content/2016AA/CUI/C0206172/definitions\n",
      "relations: NONE\n",
      "Semantic Types:\n",
      "uri: https://uts-ws.nlm.nih.gov/rest/semantic-network/2016AA/TUI/T047\n",
      "name: Disease or Syndrome\n"
     ]
    }
   ],
   "source": [
    "## search by CUI or Code\n",
    "## based on retreive-cui-or-code.py from https://github.com/HHS/uts-rest-api/tree/master/samples/python\n",
    "## requires Authentication.py from that site\n",
    "\n",
    "identifier=\"C0206172\"\n",
    "AuthClient = Authentication(apikey)\n",
    "tgt = AuthClient.gettgt()\n",
    "content_endpoint = \"/rest/content/\"+str(version)+\"/CUI/\"+str(identifier)\n",
    "\n",
    "##ticket is the only parameter needed for this call - paging does not come into play because we're only asking for one Json object\n",
    "query = {'ticket':AuthClient.getst(tgt)}\n",
    "r = requests.get(uri+content_endpoint,params=query)\n",
    "r.encoding = 'utf-8'\n",
    "items  = json.loads(r.text)\n",
    "jsonData = items[\"result\"]\n",
    "\n",
    "##uncomment the print statment if you want the raw json output, or you can just look at the documentation :=)\n",
    "#https://documentation.uts.nlm.nih.gov/rest/concept/index.html#sample-output\n",
    "#https://documentation.uts.nlm.nih.gov/rest/source-asserted-identifiers/index.html#sample-output\n",
    "#print (json.dumps(items, indent = 4))\n",
    "\n",
    "############################\n",
    "### Print out fields ####\n",
    "\n",
    "classType = jsonData[\"classType\"]\n",
    "name = jsonData[\"name\"]\n",
    "ui = jsonData[\"ui\"]\n",
    "AtomCount = jsonData[\"atomCount\"]\n",
    "Definitions = jsonData[\"definitions\"]\n",
    "Atoms = jsonData[\"atoms\"]\n",
    "DefaultPreferredAtom = jsonData[\"defaultPreferredAtom\"]\n",
    "\n",
    "## print out the shared data elements that are common to both the 'Concept' and 'SourceAtomCluster' class\n",
    "print (\"classType: \" + classType)\n",
    "print (\"ui: \" + ui)\n",
    "print (\"Name: \" + name)\n",
    "print (\"AtomCount: \" + str(AtomCount))\n",
    "print (\"Atoms: \" + Atoms)\n",
    "print (\"Default Preferred Atom: \" + DefaultPreferredAtom)\n",
    "\n",
    "## These data elements may or may not exist depending on what class ('Concept' or 'SourceAtomCluster') you're dealing with so we check for each one.\n",
    "try:\n",
    "   jsonData[\"definitions\"]\n",
    "   print (\"definitions: \" + jsonData[\"definitions\"])\n",
    "   for defs in jsonData['definitions']\n",
    "except:\n",
    "      pass\n",
    "\n",
    "try:\n",
    "   jsonData[\"parents\"]\n",
    "   print (\"parents: \" + jsonData[\"parents\"])\n",
    "except:\n",
    "      pass\n",
    "\n",
    "try:\n",
    "   jsonData[\"children\"]\n",
    "   print (\"children: \" + jsonData[\"children\"])\n",
    "except:\n",
    "      pass\n",
    "\n",
    "try:\n",
    "   jsonData[\"relations\"]\n",
    "   print (\"relations: \" + jsonData[\"relations\"])\n",
    "except:\n",
    "      pass\n",
    "\n",
    "try:\n",
    "   jsonData[\"descendants\"]\n",
    "   print (\"descendants: \" + jsonData[\"descendants\"])\n",
    "except:\n",
    "      pass\n",
    "\n",
    "try:\n",
    "   jsonData[\"semanticTypes\"]\n",
    "   print(\"Semantic Types:\")\n",
    "   for stys in jsonData[\"semanticTypes\"]:\n",
    "       print(\"uri: \"+ stys[\"uri\"])\n",
    "       print(\"name: \"+ stys[\"name\"])\n",
    "      \n",
    "except:\n",
    "      pass\n"
   ]
  },
  {
   "cell_type": "code",
   "execution_count": 37,
   "metadata": {
    "collapsed": false
   },
   "outputs": [
    {
     "name": "stdout",
     "output_type": "stream",
     "text": [
      "definition source: MSH\n",
      "Common foot problems in persons with DIABETES MELLITUS, caused by any combination of factors such as DIABETIC NEUROPATHIES; PERIPHERAL VASCULAR DISEASES; and INFECTION. With the loss of sensation and poor circulation, injuries and infections often lead to severe foot ulceration, GANGRENE and AMPUTATION.\n",
      "\n",
      "definition source: MEDLINEPLUS\n",
      "<p>If you have <a href='https://www.nlm.nih.gov/medlineplus/diabetes.html'>diabetes</a>, your blood glucose, or <a href='https://www.nlm.nih.gov/medlineplus/bloodsugar.html'>blood sugar</a>, levels are too high. Over time, this can damage your nerves or blood vessels. Nerve damage from diabetes can cause you to lose feeling in your feet. You may not feel a cut, a blister or a sore. Foot injuries such as these can cause ulcers and infections. Serious cases may even lead to amputation. Damage to the blood vessels can also mean that your feet do not get enough blood and oxygen. It is harder for your foot to heal, if you do get a sore or infection.</p> <p>You can help avoid foot problems. First, control your blood sugar levels. Good foot hygiene is also crucial:</p> <ul> <li>Check your feet every day</li> <li>Wash your feet every day</li> <li>Keep the skin soft and smooth</li> <li>Smooth corns and calluses gently</li> <li>If you can see, reach, and feel your feet, trim your toenails regularly. If you cannot, ask a foot doctor (podiatrist) to trim them for you.</li> <li>Wear shoes and socks at all times</li> <li>Protect your feet from hot and cold</li> <li>Keep the blood flowing to your feet</li> </ul> <p >NIH: National Institute of Diabetes and Digestive and Kidney Diseases </p>\n",
      "\n"
     ]
    }
   ],
   "source": [
    "## get definition given CUI or Code\n",
    "## based on retreive-cui-or-code.py from https://github.com/HHS/uts-rest-api/tree/master/samples/python\n",
    "## requires Authentication.py from that site\n",
    "\n",
    "\n",
    "AuthClient = Authentication(apikey)\n",
    "tgt = AuthClient.gettgt()\n",
    "content_endpoint = \"/rest/content/\"+str(version)+\"/CUI/\"+str(identifier)+\"/definitions\"\n",
    "\n",
    "query = {'ticket':AuthClient.getst(tgt)}\n",
    "query['sabs'] = \"SNOMEDCT_US\"\n",
    "r = requests.get(uri+content_endpoint,params=query)\n",
    "r.encoding = 'utf-8'\n",
    "items  = json.loads(r.text)\n",
    "jsonData = items[\"result\"]\n",
    "#print (json.dumps(items['result'], indent = 4))\n",
    "\n",
    "for result in items[\"result\"]:\n",
    "\n",
    "    try:\n",
    "        result['value']\n",
    "        print(\"definition source: \" + result['rootSource'])\n",
    "        print (result['value'] + \"\\n\")\n",
    "    except:\n",
    "        pass\n"
   ]
  },
  {
   "cell_type": "code",
   "execution_count": null,
   "metadata": {
    "collapsed": true
   },
   "outputs": [],
   "source": []
  }
 ],
 "metadata": {
  "kernelspec": {
   "display_name": "Python 2",
   "language": "python",
   "name": "python2"
  },
  "language_info": {
   "codemirror_mode": {
    "name": "ipython",
    "version": 2
   },
   "file_extension": ".py",
   "mimetype": "text/x-python",
   "name": "python",
   "nbconvert_exporter": "python",
   "pygments_lexer": "ipython2",
   "version": "2.7.12"
  }
 },
 "nbformat": 4,
 "nbformat_minor": 0
}
